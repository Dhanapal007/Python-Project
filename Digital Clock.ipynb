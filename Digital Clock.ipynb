{
 "cells": [
  {
   "cell_type": "code",
   "execution_count": null,
   "id": "18cb3760",
   "metadata": {},
   "outputs": [],
   "source": [
    "DIGITAL CLOCK"
   ]
  },
  {
   "cell_type": "code",
   "execution_count": null,
   "id": "2a51d74a",
   "metadata": {},
   "outputs": [],
   "source": [
    "from tkinter import *          #Main Tkinter Module\n",
    "from tkinter.ttk import *      #Themed widget set in Tk\n",
    "from time import strftime\n",
    "root = Tk()                    #root window into which all other widge go\n",
    "root.title(\"Clock\")\n",
    "def time():\n",
    "    string=strftime(\"%H:%M:%S %p\")\n",
    "    Label.config(text=string)\n",
    "    Label.after(1200,time)\n",
    "Label=Label(root, font=(\"ds-digital\",80), background=\"black\",foreground=\"cyan\")\n",
    "Label.pack(anchor='center')\n",
    "time()\n",
    "mainloop()\n",
    "\n",
    "# if u write this program in pycharm and run this program the clock will be displayed. "
   ]
  }
 ],
 "metadata": {
  "kernelspec": {
   "display_name": "Python 3 (ipykernel)",
   "language": "python",
   "name": "python3"
  },
  "language_info": {
   "codemirror_mode": {
    "name": "ipython",
    "version": 3
   },
   "file_extension": ".py",
   "mimetype": "text/x-python",
   "name": "python",
   "nbconvert_exporter": "python",
   "pygments_lexer": "ipython3",
   "version": "3.9.4"
  }
 },
 "nbformat": 4,
 "nbformat_minor": 5
}
