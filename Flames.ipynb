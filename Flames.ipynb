{
 "cells": [
  {
   "cell_type": "code",
   "execution_count": null,
   "id": "768597b2",
   "metadata": {},
   "outputs": [],
   "source": [
    "FLAMES"
   ]
  },
  {
   "cell_type": "code",
   "execution_count": 1,
   "id": "0d6524ce",
   "metadata": {},
   "outputs": [
    {
     "name": "stdout",
     "output_type": "stream",
     "text": [
      "enter the name1:kannammal\n",
      "enter the name2:muruganatham\n",
      "yours relationship is Marriage\n"
     ]
    }
   ],
   "source": [
    "name1=input('enter the name1:').lower()\n",
    "name2=input('enter the name2:').lower()\n",
    "name1=name1.replace(' ','')\n",
    "name2=name2.replace(' ','')\n",
    "for i in name1:\n",
    "    for j in name2:\n",
    "        if i==j:\n",
    "            name1=name1.replace(i,'',1)\n",
    "            name2=name2.replace(j,'',1)\n",
    "            break\n",
    "count=len(name1+name2)\n",
    "if count>0:\n",
    "    list=['Friendship','Lovers','Affection','Marriage','Enemies','Sibling']\n",
    "    while len(list)>1:\n",
    "        c=count%len(list)\n",
    "        index=c-1\n",
    "        if index>=0:\n",
    "            left=list[:index]\n",
    "            right=list[index+1:]\n",
    "            list=left+right\n",
    "        else:\n",
    "            list=list[:len(list)-1]\n",
    "    print('yours relationship is',list[0])\n",
    "else:\n",
    "    print('another name') "
   ]
  },
  {
   "cell_type": "code",
   "execution_count": null,
   "id": "be50ce0b",
   "metadata": {},
   "outputs": [],
   "source": []
  }
 ],
 "metadata": {
  "kernelspec": {
   "display_name": "Python 3 (ipykernel)",
   "language": "python",
   "name": "python3"
  },
  "language_info": {
   "codemirror_mode": {
    "name": "ipython",
    "version": 3
   },
   "file_extension": ".py",
   "mimetype": "text/x-python",
   "name": "python",
   "nbconvert_exporter": "python",
   "pygments_lexer": "ipython3",
   "version": "3.9.4"
  }
 },
 "nbformat": 4,
 "nbformat_minor": 5
}
