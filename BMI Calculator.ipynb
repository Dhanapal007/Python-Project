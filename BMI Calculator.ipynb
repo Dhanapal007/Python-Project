{
 "cells": [
  {
   "cell_type": "code",
   "execution_count": null,
   "id": "30f3791f",
   "metadata": {},
   "outputs": [],
   "source": [
    "CALCULATE BMI"
   ]
  },
  {
   "cell_type": "code",
   "execution_count": 1,
   "id": "d3bff050",
   "metadata": {},
   "outputs": [
    {
     "name": "stdout",
     "output_type": "stream",
     "text": [
      "Enter Your Name:devesh\n",
      "Hello devesh\n",
      "Enter your weight in kg: 50\n",
      "Enter your height in meter: 150\n",
      "Your BMI is 0 so You're underweight\n"
     ]
    }
   ],
   "source": [
    "n=input(\"Enter Your Name:\")\n",
    "print(\"Hello \" + n)\n",
    "def BMI(weight,height):\n",
    "    bmi=weight/(height**2) #condition of finding BMI\n",
    "    return bmi #return values\n",
    "weight=int(input(\"Enter your weight in kg: \"))\n",
    "height=float(input(\"Enter your height in meter: \"))\n",
    "bmi=BMI(weight,height)\n",
    "print('Your BMI is', int(bmi),\"so\",end=\" \") #int(bmi) is remove the decimal values\n",
    "if (bmi<18.5): #conditions of bmi values\n",
    "    print(\"You're underweight\")\n",
    "elif (bmi>=18.5 and bmi<24.9):\n",
    "    print(\"you're Healthy\")\n",
    "elif (bmi>=24.9 and bmi<30):\n",
    "    print(\"You're overweight\")\n",
    "elif (bmi>=30):\n",
    "    print(\"You're suffering from obecity\")"
   ]
  },
  {
   "cell_type": "code",
   "execution_count": null,
   "id": "3291839d",
   "metadata": {},
   "outputs": [],
   "source": []
  }
 ],
 "metadata": {
  "kernelspec": {
   "display_name": "Python 3 (ipykernel)",
   "language": "python",
   "name": "python3"
  },
  "language_info": {
   "codemirror_mode": {
    "name": "ipython",
    "version": 3
   },
   "file_extension": ".py",
   "mimetype": "text/x-python",
   "name": "python",
   "nbconvert_exporter": "python",
   "pygments_lexer": "ipython3",
   "version": "3.9.4"
  }
 },
 "nbformat": 4,
 "nbformat_minor": 5
}
