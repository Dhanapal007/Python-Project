{
 "cells": [
  {
   "cell_type": "code",
   "execution_count": null,
   "id": "91a2d9c3",
   "metadata": {},
   "outputs": [],
   "source": [
    "BASIC CALCULATOR"
   ]
  },
  {
   "cell_type": "code",
   "execution_count": 1,
   "id": "4f503945",
   "metadata": {},
   "outputs": [
    {
     "name": "stdout",
     "output_type": "stream",
     "text": [
      "Hello User,Enter The Method You Want\n",
      "Addition       : 1\n",
      "Subtraction    : 2\n",
      "Multiplication : 3\n",
      "Division       : 41\n",
      "1\n",
      "Enter The Calculation Method:1\n",
      "How Many Numbers You Want Calculated:5\n",
      "Enter The No: 85\n",
      "Enter The No: 45\n",
      "Enter The No: 41\n",
      "Enter The No: 54\n",
      "Enter The No: 63\n",
      "[85, 45, 41, 54, 63]\n",
      "your Addition Answer is:288\n"
     ]
    }
   ],
   "source": [
    "Select =input(\"Hello User,Enter The Method You Want\\n\"\n",
    "              \"Addition       : 1\\n\"\n",
    "              \"Subtraction    : 2\\n\"\n",
    "              \"Multiplication : 3\\n\"\n",
    "              \"Division       : 4\")\n",
    "print(Select)\n",
    "Cal=int(input('Enter The Calculation Method:'))\n",
    "Values=int(input(\"How Many Numbers You Want Calculated:\"))\n",
    "numbers=[int(input('Enter The No: '))for i in range(Values)]\n",
    "print(numbers)\n",
    "def add(num):\n",
    "    result=0\n",
    "    for i in num:\n",
    "        result=result+i\n",
    "    return result\n",
    "def sub(num):\n",
    "    result=0\n",
    "    for i in num:\n",
    "        result=i-result\n",
    "    return result\n",
    "def mul(num):\n",
    "    result=1  #return=1 because multiplication value is 0 answers also 0[ex:0*1=0]\n",
    "    for i in num:\n",
    "        result=result*i\n",
    "    return result\n",
    "def div(num):\n",
    "    Final=True\n",
    "    result=num[0]\n",
    "    check=num[1:]\n",
    "    for j in check:\n",
    "        if j !=0:\n",
    "            for g in check:\n",
    "                return result\n",
    "        else:\n",
    "            return \"0 can't be act divisible numbers\"\n",
    "if Cal <=4:\n",
    "    if Cal==1:\n",
    "        print(f\"your Addition Answer is:{add(numbers)}\")\n",
    "    elif Cal==2:\n",
    "        print(f\"your subraction answer is:{sub(numbers)}\")\n",
    "    elif cal==3:\n",
    "        print(f\"your multiplication answer is:{mul(numbers)}\")\n",
    "    elif Cal==4:\n",
    "        print(f\"your Divisionanswer is: {div(numbers)}\")\n",
    "else:\n",
    "    print('enter number between 1 to 4')"
   ]
  },
  {
   "cell_type": "code",
   "execution_count": null,
   "id": "8c3ab980",
   "metadata": {},
   "outputs": [],
   "source": []
  }
 ],
 "metadata": {
  "kernelspec": {
   "display_name": "Python 3 (ipykernel)",
   "language": "python",
   "name": "python3"
  },
  "language_info": {
   "codemirror_mode": {
    "name": "ipython",
    "version": 3
   },
   "file_extension": ".py",
   "mimetype": "text/x-python",
   "name": "python",
   "nbconvert_exporter": "python",
   "pygments_lexer": "ipython3",
   "version": "3.9.4"
  }
 },
 "nbformat": 4,
 "nbformat_minor": 5
}
